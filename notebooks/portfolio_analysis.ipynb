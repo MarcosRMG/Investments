{
 "cells": [
  {
   "cell_type": "markdown",
   "id": "8224560f",
   "metadata": {},
   "source": [
    "# R Basics"
   ]
  },
  {
   "cell_type": "markdown",
   "id": "027a36c0",
   "metadata": {},
   "source": [
    "## Vectors"
   ]
  },
  {
   "cell_type": "code",
   "execution_count": 1,
   "id": "64f898b8",
   "metadata": {
    "ExecuteTime": {
     "end_time": "2021-12-23T11:10:26.690200Z",
     "start_time": "2021-12-23T11:10:26.656Z"
    }
   },
   "outputs": [
    {
     "data": {
      "text/html": [
       "<style>\n",
       ".list-inline {list-style: none; margin:0; padding: 0}\n",
       ".list-inline>li {display: inline-block}\n",
       ".list-inline>li:not(:last-child)::after {content: \"\\00b7\"; padding: 0 .5ex}\n",
       "</style>\n",
       "<ol class=list-inline><li>1</li><li>2</li><li>3</li></ol>\n"
      ],
      "text/latex": [
       "\\begin{enumerate*}\n",
       "\\item 1\n",
       "\\item 2\n",
       "\\item 3\n",
       "\\end{enumerate*}\n"
      ],
      "text/markdown": [
       "1. 1\n",
       "2. 2\n",
       "3. 3\n",
       "\n",
       "\n"
      ],
      "text/plain": [
       "[1] 1 2 3"
      ]
     },
     "metadata": {},
     "output_type": "display_data"
    }
   ],
   "source": [
    "# Create a vector with c function\n",
    "vector <- c(1, 2, 3)\n",
    "vector"
   ]
  },
  {
   "cell_type": "code",
   "execution_count": 3,
   "id": "f554f85d",
   "metadata": {
    "ExecuteTime": {
     "end_time": "2021-12-23T11:11:35.252428Z",
     "start_time": "2021-12-23T11:11:35.243Z"
    }
   },
   "outputs": [],
   "source": [
    "new_vector <- c(4, 5, 6)"
   ]
  },
  {
   "cell_type": "code",
   "execution_count": 4,
   "id": "6016fa8e",
   "metadata": {
    "ExecuteTime": {
     "end_time": "2021-12-23T11:11:51.161207Z",
     "start_time": "2021-12-23T11:11:51.141Z"
    }
   },
   "outputs": [
    {
     "data": {
      "text/html": [
       "<style>\n",
       ".list-inline {list-style: none; margin:0; padding: 0}\n",
       ".list-inline>li {display: inline-block}\n",
       ".list-inline>li:not(:last-child)::after {content: \"\\00b7\"; padding: 0 .5ex}\n",
       "</style>\n",
       "<ol class=list-inline><li>5</li><li>7</li><li>9</li></ol>\n"
      ],
      "text/latex": [
       "\\begin{enumerate*}\n",
       "\\item 5\n",
       "\\item 7\n",
       "\\item 9\n",
       "\\end{enumerate*}\n"
      ],
      "text/markdown": [
       "1. 5\n",
       "2. 7\n",
       "3. 9\n",
       "\n",
       "\n"
      ],
      "text/plain": [
       "[1] 5 7 9"
      ]
     },
     "metadata": {},
     "output_type": "display_data"
    }
   ],
   "source": [
    "# Vector operation\n",
    "vector + new_vector"
   ]
  },
  {
   "cell_type": "markdown",
   "id": "6500cba2",
   "metadata": {},
   "source": [
    "## Matrix"
   ]
  },
  {
   "cell_type": "code",
   "execution_count": 8,
   "id": "a701a845",
   "metadata": {
    "ExecuteTime": {
     "end_time": "2021-12-23T11:13:01.903348Z",
     "start_time": "2021-12-23T11:13:01.882Z"
    }
   },
   "outputs": [
    {
     "data": {
      "text/html": [
       "<table class=\"dataframe\">\n",
       "<caption>A matrix: 3 × 3 of type dbl</caption>\n",
       "<tbody>\n",
       "\t<tr><td>1</td><td>1</td><td>1</td></tr>\n",
       "\t<tr><td>1</td><td>1</td><td>1</td></tr>\n",
       "\t<tr><td>1</td><td>1</td><td>1</td></tr>\n",
       "</tbody>\n",
       "</table>\n"
      ],
      "text/latex": [
       "A matrix: 3 × 3 of type dbl\n",
       "\\begin{tabular}{lll}\n",
       "\t 1 & 1 & 1\\\\\n",
       "\t 1 & 1 & 1\\\\\n",
       "\t 1 & 1 & 1\\\\\n",
       "\\end{tabular}\n"
      ],
      "text/markdown": [
       "\n",
       "A matrix: 3 × 3 of type dbl\n",
       "\n",
       "| 1 | 1 | 1 |\n",
       "| 1 | 1 | 1 |\n",
       "| 1 | 1 | 1 |\n",
       "\n"
      ],
      "text/plain": [
       "     [,1] [,2] [,3]\n",
       "[1,] 1    1    1   \n",
       "[2,] 1    1    1   \n",
       "[3,] 1    1    1   "
      ]
     },
     "metadata": {},
     "output_type": "display_data"
    }
   ],
   "source": [
    "matrix(1, 3, 3)"
   ]
  },
  {
   "cell_type": "markdown",
   "id": "9659f1f6",
   "metadata": {},
   "source": [
    "## List"
   ]
  },
  {
   "cell_type": "code",
   "execution_count": 11,
   "id": "5da24d4e",
   "metadata": {
    "ExecuteTime": {
     "end_time": "2021-12-23T11:13:58.598903Z",
     "start_time": "2021-12-23T11:13:58.576Z"
    }
   },
   "outputs": [
    {
     "data": {
      "text/html": [
       "<ol>\n",
       "\t<li>1</li>\n",
       "\t<li>2</li>\n",
       "\t<li>3</li>\n",
       "</ol>\n"
      ],
      "text/latex": [
       "\\begin{enumerate}\n",
       "\\item 1\n",
       "\\item 2\n",
       "\\item 3\n",
       "\\end{enumerate}\n"
      ],
      "text/markdown": [
       "1. 1\n",
       "2. 2\n",
       "3. 3\n",
       "\n",
       "\n"
      ],
      "text/plain": [
       "[[1]]\n",
       "[1] 1\n",
       "\n",
       "[[2]]\n",
       "[1] 2\n",
       "\n",
       "[[3]]\n",
       "[1] 3\n"
      ]
     },
     "metadata": {},
     "output_type": "display_data"
    }
   ],
   "source": [
    "list_1 <- list(1, 2, 3)\n",
    "list_1"
   ]
  },
  {
   "cell_type": "code",
   "execution_count": 12,
   "id": "1d8de549",
   "metadata": {
    "ExecuteTime": {
     "end_time": "2021-12-23T11:14:14.082629Z",
     "start_time": "2021-12-23T11:14:14.062Z"
    }
   },
   "outputs": [
    {
     "data": {
      "text/html": [
       "<ol>\n",
       "\t<li>4</li>\n",
       "\t<li>5</li>\n",
       "\t<li>6</li>\n",
       "</ol>\n"
      ],
      "text/latex": [
       "\\begin{enumerate}\n",
       "\\item 4\n",
       "\\item 5\n",
       "\\item 6\n",
       "\\end{enumerate}\n"
      ],
      "text/markdown": [
       "1. 4\n",
       "2. 5\n",
       "3. 6\n",
       "\n",
       "\n"
      ],
      "text/plain": [
       "[[1]]\n",
       "[1] 4\n",
       "\n",
       "[[2]]\n",
       "[1] 5\n",
       "\n",
       "[[3]]\n",
       "[1] 6\n"
      ]
     },
     "metadata": {},
     "output_type": "display_data"
    }
   ],
   "source": [
    "list_2 <- list(4, 5, 6)\n",
    "list_2"
   ]
  },
  {
   "cell_type": "code",
   "execution_count": 16,
   "id": "05d496cc",
   "metadata": {
    "ExecuteTime": {
     "end_time": "2021-12-23T11:14:58.028061Z",
     "start_time": "2021-12-23T11:14:58.007Z"
    }
   },
   "outputs": [
    {
     "data": {
      "text/html": [
       "<ol>\n",
       "\t<li>1</li>\n",
       "\t<li>2</li>\n",
       "</ol>\n"
      ],
      "text/latex": [
       "\\begin{enumerate}\n",
       "\\item 1\n",
       "\\item 2\n",
       "\\end{enumerate}\n"
      ],
      "text/markdown": [
       "1. 1\n",
       "2. 2\n",
       "\n",
       "\n"
      ],
      "text/plain": [
       "[[1]]\n",
       "[1] 1\n",
       "\n",
       "[[2]]\n",
       "[1] 2\n"
      ]
     },
     "metadata": {},
     "output_type": "display_data"
    }
   ],
   "source": [
    "# Slice\n",
    "list_1[1:2]"
   ]
  },
  {
   "cell_type": "code",
   "execution_count": 17,
   "id": "8db8cbd3",
   "metadata": {
    "ExecuteTime": {
     "end_time": "2021-12-23T11:15:17.040698Z",
     "start_time": "2021-12-23T11:15:17.027Z"
    }
   },
   "outputs": [
    {
     "ename": "ERROR",
     "evalue": "Error in list_1 + list_2: non-numeric argument to binary operator\n",
     "output_type": "error",
     "traceback": [
      "Error in list_1 + list_2: non-numeric argument to binary operator\nTraceback:\n"
     ]
    }
   ],
   "source": [
    "# Cant do matematical operations with list\n",
    "list_1 + list_2"
   ]
  },
  {
   "cell_type": "markdown",
   "id": "6faea668",
   "metadata": {},
   "source": [
    "## Data Frames"
   ]
  },
  {
   "cell_type": "code",
   "execution_count": 18,
   "id": "7ab3265f",
   "metadata": {
    "ExecuteTime": {
     "end_time": "2021-12-23T11:17:15.200767Z",
     "start_time": "2021-12-23T11:17:15.185Z"
    }
   },
   "outputs": [
    {
     "data": {
      "text/html": [
       "'/home/marcos/Documents/Investments/notebooks'"
      ],
      "text/latex": [
       "'/home/marcos/Documents/Investments/notebooks'"
      ],
      "text/markdown": [
       "'/home/marcos/Documents/Investments/notebooks'"
      ],
      "text/plain": [
       "[1] \"/home/marcos/Documents/Investments/notebooks\""
      ]
     },
     "metadata": {},
     "output_type": "display_data"
    }
   ],
   "source": [
    "# Directory working\n",
    "getwd()"
   ]
  },
  {
   "cell_type": "code",
   "execution_count": 20,
   "id": "2530c041",
   "metadata": {
    "ExecuteTime": {
     "end_time": "2021-12-23T11:18:48.907980Z",
     "start_time": "2021-12-23T11:18:48.888Z"
    }
   },
   "outputs": [
    {
     "data": {
      "text/html": [
       "<table class=\"dataframe\">\n",
       "<caption>A data.frame: 6 × 2</caption>\n",
       "<thead>\n",
       "\t<tr><th></th><th scope=col>date</th><th scope=col>X.</th></tr>\n",
       "\t<tr><th></th><th scope=col>&lt;int&gt;</th><th scope=col>&lt;dbl&gt;</th></tr>\n",
       "</thead>\n",
       "<tbody>\n",
       "\t<tr><th scope=row>1</th><td>201505</td><td>0.99</td></tr>\n",
       "\t<tr><th scope=row>2</th><td>201506</td><td>0.77</td></tr>\n",
       "\t<tr><th scope=row>3</th><td>201507</td><td>0.58</td></tr>\n",
       "\t<tr><th scope=row>4</th><td>201508</td><td>0.25</td></tr>\n",
       "\t<tr><th scope=row>5</th><td>201509</td><td>0.51</td></tr>\n",
       "\t<tr><th scope=row>6</th><td>201510</td><td>0.77</td></tr>\n",
       "</tbody>\n",
       "</table>\n"
      ],
      "text/latex": [
       "A data.frame: 6 × 2\n",
       "\\begin{tabular}{r|ll}\n",
       "  & date & X.\\\\\n",
       "  & <int> & <dbl>\\\\\n",
       "\\hline\n",
       "\t1 & 201505 & 0.99\\\\\n",
       "\t2 & 201506 & 0.77\\\\\n",
       "\t3 & 201507 & 0.58\\\\\n",
       "\t4 & 201508 & 0.25\\\\\n",
       "\t5 & 201509 & 0.51\\\\\n",
       "\t6 & 201510 & 0.77\\\\\n",
       "\\end{tabular}\n"
      ],
      "text/markdown": [
       "\n",
       "A data.frame: 6 × 2\n",
       "\n",
       "| <!--/--> | date &lt;int&gt; | X. &lt;dbl&gt; |\n",
       "|---|---|---|\n",
       "| 1 | 201505 | 0.99 |\n",
       "| 2 | 201506 | 0.77 |\n",
       "| 3 | 201507 | 0.58 |\n",
       "| 4 | 201508 | 0.25 |\n",
       "| 5 | 201509 | 0.51 |\n",
       "| 6 | 201510 | 0.77 |\n",
       "\n"
      ],
      "text/plain": [
       "  date   X.  \n",
       "1 201505 0.99\n",
       "2 201506 0.77\n",
       "3 201507 0.58\n",
       "4 201508 0.25\n",
       "5 201509 0.51\n",
       "6 201510 0.77"
      ]
     },
     "metadata": {},
     "output_type": "display_data"
    }
   ],
   "source": [
    "# Read a csv\n",
    "inpc = read.csv('../data/inpc.csv')\n",
    "head(inpc)"
   ]
  },
  {
   "cell_type": "code",
   "execution_count": 24,
   "id": "752ece27",
   "metadata": {
    "ExecuteTime": {
     "end_time": "2021-12-23T11:21:46.949404Z",
     "start_time": "2021-12-23T11:21:46.940Z"
    }
   },
   "outputs": [
    {
     "data": {
      "text/html": [
       "<style>\n",
       ".list-inline {list-style: none; margin:0; padding: 0}\n",
       ".list-inline>li {display: inline-block}\n",
       ".list-inline>li:not(:last-child)::after {content: \"\\00b7\"; padding: 0 .5ex}\n",
       "</style>\n",
       "<ol class=list-inline><li>'date'</li><li>'X.'</li></ol>\n"
      ],
      "text/latex": [
       "\\begin{enumerate*}\n",
       "\\item 'date'\n",
       "\\item 'X.'\n",
       "\\end{enumerate*}\n"
      ],
      "text/markdown": [
       "1. 'date'\n",
       "2. 'X.'\n",
       "\n",
       "\n"
      ],
      "text/plain": [
       "[1] \"date\" \"X.\"  "
      ]
     },
     "metadata": {},
     "output_type": "display_data"
    }
   ],
   "source": [
    "colnames(inpc)"
   ]
  },
  {
   "cell_type": "code",
   "execution_count": 37,
   "id": "18496df1",
   "metadata": {
    "ExecuteTime": {
     "end_time": "2021-12-23T11:31:59.438291Z",
     "start_time": "2021-12-23T11:31:59.414Z"
    }
   },
   "outputs": [
    {
     "data": {
      "text/html": [
       "<table class=\"dataframe\">\n",
       "<caption>A data.frame: 3 × 2</caption>\n",
       "<thead>\n",
       "\t<tr><th></th><th scope=col>date</th><th scope=col>X.</th></tr>\n",
       "\t<tr><th></th><th scope=col>&lt;int&gt;</th><th scope=col>&lt;dbl&gt;</th></tr>\n",
       "</thead>\n",
       "<tbody>\n",
       "\t<tr><th scope=row>1</th><td>201505</td><td>0.99</td></tr>\n",
       "\t<tr><th scope=row>10</th><td>201602</td><td>0.95</td></tr>\n",
       "\t<tr><th scope=row>20</th><td>201612</td><td>0.14</td></tr>\n",
       "</tbody>\n",
       "</table>\n"
      ],
      "text/latex": [
       "A data.frame: 3 × 2\n",
       "\\begin{tabular}{r|ll}\n",
       "  & date & X.\\\\\n",
       "  & <int> & <dbl>\\\\\n",
       "\\hline\n",
       "\t1 & 201505 & 0.99\\\\\n",
       "\t10 & 201602 & 0.95\\\\\n",
       "\t20 & 201612 & 0.14\\\\\n",
       "\\end{tabular}\n"
      ],
      "text/markdown": [
       "\n",
       "A data.frame: 3 × 2\n",
       "\n",
       "| <!--/--> | date &lt;int&gt; | X. &lt;dbl&gt; |\n",
       "|---|---|---|\n",
       "| 1 | 201505 | 0.99 |\n",
       "| 10 | 201602 | 0.95 |\n",
       "| 20 | 201612 | 0.14 |\n",
       "\n"
      ],
      "text/plain": [
       "   date   X.  \n",
       "1  201505 0.99\n",
       "10 201602 0.95\n",
       "20 201612 0.14"
      ]
     },
     "metadata": {},
     "output_type": "display_data"
    }
   ],
   "source": [
    "# Slice data\n",
    "inpc[c(1, 10, 20),1:2]"
   ]
  },
  {
   "cell_type": "code",
   "execution_count": 41,
   "id": "4622ab3c",
   "metadata": {
    "ExecuteTime": {
     "end_time": "2021-12-23T11:33:28.659870Z",
     "start_time": "2021-12-23T11:33:28.640Z"
    }
   },
   "outputs": [
    {
     "data": {
      "text/html": [
       "<style>\n",
       ".list-inline {list-style: none; margin:0; padding: 0}\n",
       ".list-inline>li {display: inline-block}\n",
       ".list-inline>li:not(:last-child)::after {content: \"\\00b7\"; padding: 0 .5ex}\n",
       "</style>\n",
       "<ol class=list-inline><li>0.99</li><li>0.77</li><li>0.58</li><li>0.25</li><li>0.51</li><li>0.77</li><li>1.11</li><li>0.9</li><li>1.51</li><li>0.95</li><li>0.44</li><li>0.64</li><li>0.98</li><li>0.47</li><li>0.64</li><li>0.31</li><li>0.08</li><li>0.17</li><li>0.07</li><li>0.14</li><li>0.42</li><li>0.24</li><li>0.32</li><li>0.08</li><li>0.36</li><li>-0.3</li><li>0.17</li><li>-0.03</li><li>-0.02</li><li>0.37</li><li>0.18</li><li>0.26</li><li>0.23</li><li>0.18</li><li>0.07</li><li>0.21</li><li>0.43</li><li>1.43</li><li>0.25</li><li>0</li><li>0.3</li><li>0.4</li><li>-0.25</li><li>0.14</li><li>0.36</li><li>0.54</li><li>0.77</li><li>0.6</li><li>0.15</li><li>0.01</li><li>0.1</li><li>0.12</li><li>-0.05</li><li>0.04</li><li>0.54</li><li>1.22</li><li>0.19</li><li>0.17</li><li>0.18</li><li>-0.23</li><li>-0.25</li><li>0.3</li><li>0.44</li><li>0.36</li><li>0.87</li><li>0.89</li><li>0.95</li><li>1.46</li><li>0.27</li><li>0.82</li><li>0.86</li><li>0.38</li><li>0.96</li><li>0.6</li><li>1.02</li><li>0.88</li><li>1.2</li></ol>\n"
      ],
      "text/latex": [
       "\\begin{enumerate*}\n",
       "\\item 0.99\n",
       "\\item 0.77\n",
       "\\item 0.58\n",
       "\\item 0.25\n",
       "\\item 0.51\n",
       "\\item 0.77\n",
       "\\item 1.11\n",
       "\\item 0.9\n",
       "\\item 1.51\n",
       "\\item 0.95\n",
       "\\item 0.44\n",
       "\\item 0.64\n",
       "\\item 0.98\n",
       "\\item 0.47\n",
       "\\item 0.64\n",
       "\\item 0.31\n",
       "\\item 0.08\n",
       "\\item 0.17\n",
       "\\item 0.07\n",
       "\\item 0.14\n",
       "\\item 0.42\n",
       "\\item 0.24\n",
       "\\item 0.32\n",
       "\\item 0.08\n",
       "\\item 0.36\n",
       "\\item -0.3\n",
       "\\item 0.17\n",
       "\\item -0.03\n",
       "\\item -0.02\n",
       "\\item 0.37\n",
       "\\item 0.18\n",
       "\\item 0.26\n",
       "\\item 0.23\n",
       "\\item 0.18\n",
       "\\item 0.07\n",
       "\\item 0.21\n",
       "\\item 0.43\n",
       "\\item 1.43\n",
       "\\item 0.25\n",
       "\\item 0\n",
       "\\item 0.3\n",
       "\\item 0.4\n",
       "\\item -0.25\n",
       "\\item 0.14\n",
       "\\item 0.36\n",
       "\\item 0.54\n",
       "\\item 0.77\n",
       "\\item 0.6\n",
       "\\item 0.15\n",
       "\\item 0.01\n",
       "\\item 0.1\n",
       "\\item 0.12\n",
       "\\item -0.05\n",
       "\\item 0.04\n",
       "\\item 0.54\n",
       "\\item 1.22\n",
       "\\item 0.19\n",
       "\\item 0.17\n",
       "\\item 0.18\n",
       "\\item -0.23\n",
       "\\item -0.25\n",
       "\\item 0.3\n",
       "\\item 0.44\n",
       "\\item 0.36\n",
       "\\item 0.87\n",
       "\\item 0.89\n",
       "\\item 0.95\n",
       "\\item 1.46\n",
       "\\item 0.27\n",
       "\\item 0.82\n",
       "\\item 0.86\n",
       "\\item 0.38\n",
       "\\item 0.96\n",
       "\\item 0.6\n",
       "\\item 1.02\n",
       "\\item 0.88\n",
       "\\item 1.2\n",
       "\\end{enumerate*}\n"
      ],
      "text/markdown": [
       "1. 0.99\n",
       "2. 0.77\n",
       "3. 0.58\n",
       "4. 0.25\n",
       "5. 0.51\n",
       "6. 0.77\n",
       "7. 1.11\n",
       "8. 0.9\n",
       "9. 1.51\n",
       "10. 0.95\n",
       "11. 0.44\n",
       "12. 0.64\n",
       "13. 0.98\n",
       "14. 0.47\n",
       "15. 0.64\n",
       "16. 0.31\n",
       "17. 0.08\n",
       "18. 0.17\n",
       "19. 0.07\n",
       "20. 0.14\n",
       "21. 0.42\n",
       "22. 0.24\n",
       "23. 0.32\n",
       "24. 0.08\n",
       "25. 0.36\n",
       "26. -0.3\n",
       "27. 0.17\n",
       "28. -0.03\n",
       "29. -0.02\n",
       "30. 0.37\n",
       "31. 0.18\n",
       "32. 0.26\n",
       "33. 0.23\n",
       "34. 0.18\n",
       "35. 0.07\n",
       "36. 0.21\n",
       "37. 0.43\n",
       "38. 1.43\n",
       "39. 0.25\n",
       "40. 0\n",
       "41. 0.3\n",
       "42. 0.4\n",
       "43. -0.25\n",
       "44. 0.14\n",
       "45. 0.36\n",
       "46. 0.54\n",
       "47. 0.77\n",
       "48. 0.6\n",
       "49. 0.15\n",
       "50. 0.01\n",
       "51. 0.1\n",
       "52. 0.12\n",
       "53. -0.05\n",
       "54. 0.04\n",
       "55. 0.54\n",
       "56. 1.22\n",
       "57. 0.19\n",
       "58. 0.17\n",
       "59. 0.18\n",
       "60. -0.23\n",
       "61. -0.25\n",
       "62. 0.3\n",
       "63. 0.44\n",
       "64. 0.36\n",
       "65. 0.87\n",
       "66. 0.89\n",
       "67. 0.95\n",
       "68. 1.46\n",
       "69. 0.27\n",
       "70. 0.82\n",
       "71. 0.86\n",
       "72. 0.38\n",
       "73. 0.96\n",
       "74. 0.6\n",
       "75. 1.02\n",
       "76. 0.88\n",
       "77. 1.2\n",
       "\n",
       "\n"
      ],
      "text/plain": [
       " [1]  0.99  0.77  0.58  0.25  0.51  0.77  1.11  0.90  1.51  0.95  0.44  0.64\n",
       "[13]  0.98  0.47  0.64  0.31  0.08  0.17  0.07  0.14  0.42  0.24  0.32  0.08\n",
       "[25]  0.36 -0.30  0.17 -0.03 -0.02  0.37  0.18  0.26  0.23  0.18  0.07  0.21\n",
       "[37]  0.43  1.43  0.25  0.00  0.30  0.40 -0.25  0.14  0.36  0.54  0.77  0.60\n",
       "[49]  0.15  0.01  0.10  0.12 -0.05  0.04  0.54  1.22  0.19  0.17  0.18 -0.23\n",
       "[61] -0.25  0.30  0.44  0.36  0.87  0.89  0.95  1.46  0.27  0.82  0.86  0.38\n",
       "[73]  0.96  0.60  1.02  0.88  1.20"
      ]
     },
     "metadata": {},
     "output_type": "display_data"
    }
   ],
   "source": [
    "# $ operator\n",
    "inpc$X."
   ]
  },
  {
   "cell_type": "code",
   "execution_count": 42,
   "id": "758b49cf",
   "metadata": {
    "ExecuteTime": {
     "end_time": "2021-12-23T11:33:41.120380Z",
     "start_time": "2021-12-23T11:33:41.097Z"
    }
   },
   "outputs": [
    {
     "data": {
      "text/html": [
       "<style>\n",
       ".list-inline {list-style: none; margin:0; padding: 0}\n",
       ".list-inline>li {display: inline-block}\n",
       ".list-inline>li:not(:last-child)::after {content: \"\\00b7\"; padding: 0 .5ex}\n",
       "</style>\n",
       "<ol class=list-inline><li>201505</li><li>201506</li><li>201507</li><li>201508</li><li>201509</li><li>201510</li><li>201511</li><li>201512</li><li>201601</li><li>201602</li><li>201603</li><li>201604</li><li>201605</li><li>201606</li><li>201607</li><li>201608</li><li>201609</li><li>201610</li><li>201611</li><li>201612</li><li>201701</li><li>201702</li><li>201703</li><li>201704</li><li>201705</li><li>201706</li><li>201707</li><li>201708</li><li>201709</li><li>201710</li><li>201711</li><li>201712</li><li>201801</li><li>201802</li><li>201803</li><li>201804</li><li>201805</li><li>201806</li><li>201807</li><li>201808</li><li>201809</li><li>201810</li><li>201811</li><li>201812</li><li>201901</li><li>201902</li><li>201903</li><li>201904</li><li>201905</li><li>201906</li><li>201907</li><li>201908</li><li>201909</li><li>201910</li><li>201911</li><li>201912</li><li>202001</li><li>202002</li><li>202003</li><li>202004</li><li>202005</li><li>202006</li><li>202007</li><li>202008</li><li>202009</li><li>202010</li><li>202011</li><li>202012</li><li>202101</li><li>202102</li><li>202103</li><li>202104</li><li>202105</li><li>202106</li><li>202107</li><li>202108</li><li>202109</li></ol>\n"
      ],
      "text/latex": [
       "\\begin{enumerate*}\n",
       "\\item 201505\n",
       "\\item 201506\n",
       "\\item 201507\n",
       "\\item 201508\n",
       "\\item 201509\n",
       "\\item 201510\n",
       "\\item 201511\n",
       "\\item 201512\n",
       "\\item 201601\n",
       "\\item 201602\n",
       "\\item 201603\n",
       "\\item 201604\n",
       "\\item 201605\n",
       "\\item 201606\n",
       "\\item 201607\n",
       "\\item 201608\n",
       "\\item 201609\n",
       "\\item 201610\n",
       "\\item 201611\n",
       "\\item 201612\n",
       "\\item 201701\n",
       "\\item 201702\n",
       "\\item 201703\n",
       "\\item 201704\n",
       "\\item 201705\n",
       "\\item 201706\n",
       "\\item 201707\n",
       "\\item 201708\n",
       "\\item 201709\n",
       "\\item 201710\n",
       "\\item 201711\n",
       "\\item 201712\n",
       "\\item 201801\n",
       "\\item 201802\n",
       "\\item 201803\n",
       "\\item 201804\n",
       "\\item 201805\n",
       "\\item 201806\n",
       "\\item 201807\n",
       "\\item 201808\n",
       "\\item 201809\n",
       "\\item 201810\n",
       "\\item 201811\n",
       "\\item 201812\n",
       "\\item 201901\n",
       "\\item 201902\n",
       "\\item 201903\n",
       "\\item 201904\n",
       "\\item 201905\n",
       "\\item 201906\n",
       "\\item 201907\n",
       "\\item 201908\n",
       "\\item 201909\n",
       "\\item 201910\n",
       "\\item 201911\n",
       "\\item 201912\n",
       "\\item 202001\n",
       "\\item 202002\n",
       "\\item 202003\n",
       "\\item 202004\n",
       "\\item 202005\n",
       "\\item 202006\n",
       "\\item 202007\n",
       "\\item 202008\n",
       "\\item 202009\n",
       "\\item 202010\n",
       "\\item 202011\n",
       "\\item 202012\n",
       "\\item 202101\n",
       "\\item 202102\n",
       "\\item 202103\n",
       "\\item 202104\n",
       "\\item 202105\n",
       "\\item 202106\n",
       "\\item 202107\n",
       "\\item 202108\n",
       "\\item 202109\n",
       "\\end{enumerate*}\n"
      ],
      "text/markdown": [
       "1. 201505\n",
       "2. 201506\n",
       "3. 201507\n",
       "4. 201508\n",
       "5. 201509\n",
       "6. 201510\n",
       "7. 201511\n",
       "8. 201512\n",
       "9. 201601\n",
       "10. 201602\n",
       "11. 201603\n",
       "12. 201604\n",
       "13. 201605\n",
       "14. 201606\n",
       "15. 201607\n",
       "16. 201608\n",
       "17. 201609\n",
       "18. 201610\n",
       "19. 201611\n",
       "20. 201612\n",
       "21. 201701\n",
       "22. 201702\n",
       "23. 201703\n",
       "24. 201704\n",
       "25. 201705\n",
       "26. 201706\n",
       "27. 201707\n",
       "28. 201708\n",
       "29. 201709\n",
       "30. 201710\n",
       "31. 201711\n",
       "32. 201712\n",
       "33. 201801\n",
       "34. 201802\n",
       "35. 201803\n",
       "36. 201804\n",
       "37. 201805\n",
       "38. 201806\n",
       "39. 201807\n",
       "40. 201808\n",
       "41. 201809\n",
       "42. 201810\n",
       "43. 201811\n",
       "44. 201812\n",
       "45. 201901\n",
       "46. 201902\n",
       "47. 201903\n",
       "48. 201904\n",
       "49. 201905\n",
       "50. 201906\n",
       "51. 201907\n",
       "52. 201908\n",
       "53. 201909\n",
       "54. 201910\n",
       "55. 201911\n",
       "56. 201912\n",
       "57. 202001\n",
       "58. 202002\n",
       "59. 202003\n",
       "60. 202004\n",
       "61. 202005\n",
       "62. 202006\n",
       "63. 202007\n",
       "64. 202008\n",
       "65. 202009\n",
       "66. 202010\n",
       "67. 202011\n",
       "68. 202012\n",
       "69. 202101\n",
       "70. 202102\n",
       "71. 202103\n",
       "72. 202104\n",
       "73. 202105\n",
       "74. 202106\n",
       "75. 202107\n",
       "76. 202108\n",
       "77. 202109\n",
       "\n",
       "\n"
      ],
      "text/plain": [
       " [1] 201505 201506 201507 201508 201509 201510 201511 201512 201601 201602\n",
       "[11] 201603 201604 201605 201606 201607 201608 201609 201610 201611 201612\n",
       "[21] 201701 201702 201703 201704 201705 201706 201707 201708 201709 201710\n",
       "[31] 201711 201712 201801 201802 201803 201804 201805 201806 201807 201808\n",
       "[41] 201809 201810 201811 201812 201901 201902 201903 201904 201905 201906\n",
       "[51] 201907 201908 201909 201910 201911 201912 202001 202002 202003 202004\n",
       "[61] 202005 202006 202007 202008 202009 202010 202011 202012 202101 202102\n",
       "[71] 202103 202104 202105 202106 202107 202108 202109"
      ]
     },
     "metadata": {},
     "output_type": "display_data"
    }
   ],
   "source": [
    "inpc$date"
   ]
  },
  {
   "cell_type": "markdown",
   "id": "4a6d58a7",
   "metadata": {},
   "source": [
    "## Fuctions"
   ]
  },
  {
   "cell_type": "code",
   "execution_count": 43,
   "id": "cfe3bec2",
   "metadata": {
    "ExecuteTime": {
     "end_time": "2021-12-23T11:36:00.077964Z",
     "start_time": "2021-12-23T11:36:00.061Z"
    }
   },
   "outputs": [
    {
     "data": {
      "text/html": [
       "0.447272727272727"
      ],
      "text/latex": [
       "0.447272727272727"
      ],
      "text/markdown": [
       "0.447272727272727"
      ],
      "text/plain": [
       "[1] 0.4472727"
      ]
     },
     "metadata": {},
     "output_type": "display_data"
    }
   ],
   "source": [
    "mean(inpc$X.)"
   ]
  },
  {
   "cell_type": "markdown",
   "id": "ae6fd000",
   "metadata": {},
   "source": [
    "## Libraries"
   ]
  },
  {
   "cell_type": "code",
   "execution_count": 45,
   "id": "38ca67b8",
   "metadata": {
    "ExecuteTime": {
     "end_time": "2021-12-23T11:39:55.017633Z",
     "start_time": "2021-12-23T11:38:43.733Z"
    }
   },
   "outputs": [
    {
     "name": "stderr",
     "output_type": "stream",
     "text": [
      "Installing package into ‘/home/marcos/R/x86_64-pc-linux-gnu-library/3.6’\n",
      "(as ‘lib’ is unspecified)\n",
      "\n",
      "also installing the dependencies ‘colorspace’, ‘farver’, ‘labeling’, ‘munsell’, ‘R6’, ‘RColorBrewer’, ‘viridisLite’, ‘magrittr’, ‘pkgconfig’, ‘gtable’, ‘isoband’, ‘scales’, ‘tibble’, ‘withr’\n",
      "\n",
      "\n"
     ]
    }
   ],
   "source": [
    "install.packages('ggplot2')"
   ]
  },
  {
   "cell_type": "code",
   "execution_count": 46,
   "id": "b63926ab",
   "metadata": {
    "ExecuteTime": {
     "end_time": "2021-12-23T11:39:55.176706Z",
     "start_time": "2021-12-23T11:39:51.652Z"
    }
   },
   "outputs": [],
   "source": [
    "library('ggplot2')"
   ]
  },
  {
   "cell_type": "code",
   "execution_count": null,
   "id": "80e3ad32",
   "metadata": {},
   "outputs": [],
   "source": [
    "ggplot2()"
   ]
  }
 ],
 "metadata": {
  "hide_input": false,
  "kernelspec": {
   "display_name": "R",
   "language": "R",
   "name": "ir"
  },
  "language_info": {
   "codemirror_mode": "r",
   "file_extension": ".r",
   "mimetype": "text/x-r-source",
   "name": "R",
   "pygments_lexer": "r",
   "version": "3.6.3"
  },
  "toc": {
   "base_numbering": 1,
   "nav_menu": {},
   "number_sections": true,
   "sideBar": true,
   "skip_h1_title": false,
   "title_cell": "Table of Contents",
   "title_sidebar": "Contents",
   "toc_cell": false,
   "toc_position": {},
   "toc_section_display": true,
   "toc_window_display": false
  }
 },
 "nbformat": 4,
 "nbformat_minor": 5
}
