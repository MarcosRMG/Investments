{
 "metadata": {
  "language_info": {
   "codemirror_mode": {
    "name": "ipython",
    "version": 3
   },
   "file_extension": ".py",
   "mimetype": "text/x-python",
   "name": "python",
   "nbconvert_exporter": "python",
   "pygments_lexer": "ipython3",
   "version": "3.8.5"
  },
  "orig_nbformat": 2,
  "kernelspec": {
   "name": "python3",
   "display_name": "Python 3.8.5 64-bit ('base': conda)"
  },
  "metadata": {
   "interpreter": {
    "hash": "a41003d90cb03ad44c948839cf2ce572250f8d823acef5ebccd546ad3f85503a"
   }
  },
  "interpreter": {
   "hash": "4485ef6c71e205f876fdb847a23be8aea5be97e0faf2581a4f2f9cf349a3b862"
  }
 },
 "nbformat": 4,
 "nbformat_minor": 2,
 "cells": [
  {
   "cell_type": "code",
   "execution_count": 3,
   "metadata": {
    "tags": []
   },
   "outputs": [],
   "source": [
    "import pandas as pd\n",
    "import requests\n",
    "import json"
   ]
  },
  {
   "cell_type": "code",
   "execution_count": 59,
   "metadata": {},
   "outputs": [],
   "source": [
    "dados = pd.read_csv('../dados/IBM.csv')"
   ]
  },
  {
   "cell_type": "code",
   "execution_count": 60,
   "metadata": {},
   "outputs": [
    {
     "output_type": "execute_result",
     "data": {
      "text/plain": [
       "            data     IBM\n",
       "0     2021-06-21  146.65\n",
       "1     2021-06-18  143.12\n",
       "2     2021-06-17  145.60\n",
       "3     2021-06-16  147.83\n",
       "4     2021-06-15  149.36\n",
       "...          ...     ...\n",
       "5439  1999-11-05   90.25\n",
       "5440  1999-11-04   91.56\n",
       "5441  1999-11-03   94.37\n",
       "5442  1999-11-02   94.81\n",
       "5443  1999-11-01   96.75\n",
       "\n",
       "[5444 rows x 2 columns]"
      ],
      "text/html": "<div>\n<style scoped>\n    .dataframe tbody tr th:only-of-type {\n        vertical-align: middle;\n    }\n\n    .dataframe tbody tr th {\n        vertical-align: top;\n    }\n\n    .dataframe thead th {\n        text-align: right;\n    }\n</style>\n<table border=\"1\" class=\"dataframe\">\n  <thead>\n    <tr style=\"text-align: right;\">\n      <th></th>\n      <th>data</th>\n      <th>IBM</th>\n    </tr>\n  </thead>\n  <tbody>\n    <tr>\n      <th>0</th>\n      <td>2021-06-21</td>\n      <td>146.65</td>\n    </tr>\n    <tr>\n      <th>1</th>\n      <td>2021-06-18</td>\n      <td>143.12</td>\n    </tr>\n    <tr>\n      <th>2</th>\n      <td>2021-06-17</td>\n      <td>145.60</td>\n    </tr>\n    <tr>\n      <th>3</th>\n      <td>2021-06-16</td>\n      <td>147.83</td>\n    </tr>\n    <tr>\n      <th>4</th>\n      <td>2021-06-15</td>\n      <td>149.36</td>\n    </tr>\n    <tr>\n      <th>...</th>\n      <td>...</td>\n      <td>...</td>\n    </tr>\n    <tr>\n      <th>5439</th>\n      <td>1999-11-05</td>\n      <td>90.25</td>\n    </tr>\n    <tr>\n      <th>5440</th>\n      <td>1999-11-04</td>\n      <td>91.56</td>\n    </tr>\n    <tr>\n      <th>5441</th>\n      <td>1999-11-03</td>\n      <td>94.37</td>\n    </tr>\n    <tr>\n      <th>5442</th>\n      <td>1999-11-02</td>\n      <td>94.81</td>\n    </tr>\n    <tr>\n      <th>5443</th>\n      <td>1999-11-01</td>\n      <td>96.75</td>\n    </tr>\n  </tbody>\n</table>\n<p>5444 rows × 2 columns</p>\n</div>"
     },
     "metadata": {},
     "execution_count": 60
    }
   ],
   "source": [
    "dados"
   ]
  },
  {
   "cell_type": "code",
   "execution_count": null,
   "metadata": {},
   "outputs": [],
   "source": []
  }
 ]
}