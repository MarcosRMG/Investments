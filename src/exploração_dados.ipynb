{
 "metadata": {
  "language_info": {
   "codemirror_mode": {
    "name": "ipython",
    "version": 3
   },
   "file_extension": ".py",
   "mimetype": "text/x-python",
   "name": "python",
   "nbconvert_exporter": "python",
   "pygments_lexer": "ipython3",
   "version": "3.8.5"
  },
  "orig_nbformat": 2,
  "kernelspec": {
   "name": "python3",
   "display_name": "Python 3.8.5  ('venv_investimentos': venv)"
  },
  "metadata": {
   "interpreter": {
    "hash": "a41003d90cb03ad44c948839cf2ce572250f8d823acef5ebccd546ad3f85503a"
   }
  },
  "interpreter": {
   "hash": "a41003d90cb03ad44c948839cf2ce572250f8d823acef5ebccd546ad3f85503a"
  }
 },
 "nbformat": 4,
 "nbformat_minor": 2,
 "cells": [
  {
   "cell_type": "code",
   "execution_count": 1,
   "metadata": {
    "tags": []
   },
   "outputs": [],
   "source": [
    "import pandas as pd"
   ]
  }
 ]
}