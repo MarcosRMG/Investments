{
 "cells": [
  {
   "cell_type": "code",
   "execution_count": 1,
   "metadata": {},
   "outputs": [],
   "source": [
    "import pandas as pd"
   ]
  },
  {
   "cell_type": "code",
   "execution_count": 25,
   "metadata": {},
   "outputs": [],
   "source": [
    "teste = pd.read_csv('../dados/ibov.csv')"
   ]
  }
 ],
 "metadata": {
  "interpreter": {
   "hash": "9b5756f5b2e70b40840ec23a2846ee5116b1715c5ed90b78b63708315329a787"
  },
  "kernelspec": {
   "display_name": "Python 3.8.10 64-bit ('venv_investimentos': venv)",
   "name": "python3"
  },
  "language_info": {
   "codemirror_mode": {
    "name": "ipython",
    "version": 3
   },
   "file_extension": ".py",
   "mimetype": "text/x-python",
   "name": "python",
   "nbconvert_exporter": "python",
   "pygments_lexer": "ipython3",
   "version": "3.8.10"
  },
  "metadata": {
   "interpreter": {
    "hash": "a41003d90cb03ad44c948839cf2ce572250f8d823acef5ebccd546ad3f85503a"
   }
  },
  "orig_nbformat": 2
 },
 "nbformat": 4,
 "nbformat_minor": 2
}