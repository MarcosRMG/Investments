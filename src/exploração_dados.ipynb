{
 "metadata": {
  "language_info": {
   "codemirror_mode": {
    "name": "ipython",
    "version": 3
   },
   "file_extension": ".py",
   "mimetype": "text/x-python",
   "name": "python",
   "nbconvert_exporter": "python",
   "pygments_lexer": "ipython3",
   "version": "3.8.5"
  },
  "orig_nbformat": 2,
  "kernelspec": {
   "name": "pythonjvsc74a57bd0a41003d90cb03ad44c948839cf2ce572250f8d823acef5ebccd546ad3f85503a",
   "display_name": "Python 3.8.5  ('venv_investimentos': venv)"
  },
  "metadata": {
   "interpreter": {
    "hash": "a41003d90cb03ad44c948839cf2ce572250f8d823acef5ebccd546ad3f85503a"
   }
  }
 },
 "nbformat": 4,
 "nbformat_minor": 2,
 "cells": [
  {
   "cell_type": "code",
   "execution_count": 4,
   "metadata": {
    "tags": []
   },
   "outputs": [],
   "source": [
    "'''url = 'https://www3.bcb.gov.br/sgspub/consultarvalores/consultarValoresSeries.do?method=downLoad'\n",
    "import shutil\n",
    "import urllib.request as request\n",
    "from contextlib import closing\n",
    "from datetime import datetime, timedelta\n",
    "import requests'''\n",
    "import pandas as pd"
   ]
  },
  {
   "cell_type": "code",
   "execution_count": 108,
   "metadata": {},
   "outputs": [
    {
     "output_type": "execute_result",
     "data": {
      "text/plain": [
       "'STP-20210527232642360.csv'"
      ]
     },
     "metadata": {},
     "execution_count": 108
    }
   ],
   "source": [
    "'STP-' + datetime.now().strftime('%Y%m%d%H%M%S%f')[:-3] + '.csv'"
   ]
  },
  {
   "cell_type": "code",
   "execution_count": 10,
   "metadata": {},
   "outputs": [],
   "source": [
    " with closing(request.urlopen(url)) as r:\n",
    "    with open('STP-' + datetime.now().strftime('%Y%m%d%H%M%S%f')[:-3] + '.csv', 'wb') as f:\n",
    "        shutil.copyfileobj(r, f)"
   ]
  },
  {
   "cell_type": "code",
   "execution_count": 111,
   "metadata": {},
   "outputs": [
    {
     "output_type": "execute_result",
     "data": {
      "text/plain": [
       "341765"
      ]
     },
     "metadata": {},
     "execution_count": 111
    }
   ],
   "source": [
    "datetime.now().microsecond"
   ]
  },
  {
   "cell_type": "code",
   "execution_count": 5,
   "metadata": {},
   "outputs": [],
   "source": [
    "dados = pd.read_csv('../dados/cdi.csv')"
   ]
  }
 ]
}