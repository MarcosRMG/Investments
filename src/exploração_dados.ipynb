{
 "metadata": {
  "language_info": {
   "codemirror_mode": {
    "name": "ipython",
    "version": 3
   },
   "file_extension": ".py",
   "mimetype": "text/x-python",
   "name": "python",
   "nbconvert_exporter": "python",
   "pygments_lexer": "ipython3",
   "version": "3.8.5"
  },
  "orig_nbformat": 2,
  "kernelspec": {
   "name": "pythonjvsc74a57bd0a41003d90cb03ad44c948839cf2ce572250f8d823acef5ebccd546ad3f85503a",
   "display_name": "Python 3.8.5  ('venv_investimentos': venv)"
  },
  "metadata": {
   "interpreter": {
    "hash": "a41003d90cb03ad44c948839cf2ce572250f8d823acef5ebccd546ad3f85503a"
   }
  }
 },
 "nbformat": 4,
 "nbformat_minor": 2,
 "cells": [
  {
   "cell_type": "code",
   "execution_count": 7,
   "metadata": {},
   "outputs": [],
   "source": [
    "from contextlib import closing\n",
    "import urllib.request as request\n",
    "import shutil"
   ]
  },
  {
   "cell_type": "code",
   "execution_count": 15,
   "metadata": {},
   "outputs": [],
   "source": [
    "link = 'https://www3.bcb.gov.br/sgspub/consultarvalores/consultarValoresSeries.do?method=downLoad'\n",
    "with closing(request.urlopen(link)) as r:\n",
    "    with open('STP-20210522231455750.csv', 'wb') as f:\n",
    "        shutil.copyfileobj(r, f)"
   ]
  },
  {
   "cell_type": "code",
   "execution_count": 16,
   "metadata": {},
   "outputs": [
    {
     "output_type": "execute_result",
     "data": {
      "text/plain": [
       "                                                   \\t\\t\\t\\t<script language=\"javascript\">\n",
       "\\t\\t\\t\\t\\talert(\"Session expired. You will be r...      to completely leave the system.\")\n",
       "\\t\\t\\t\\t\\twindow.location = \"/sgspub/\";                                               NaN\n",
       "\\t\\t\\t\\t</script>                                                                     NaN"
      ],
      "text/html": "<div>\n<style scoped>\n    .dataframe tbody tr th:only-of-type {\n        vertical-align: middle;\n    }\n\n    .dataframe tbody tr th {\n        vertical-align: top;\n    }\n\n    .dataframe thead th {\n        text-align: right;\n    }\n</style>\n<table border=\"1\" class=\"dataframe\">\n  <thead>\n    <tr style=\"text-align: right;\">\n      <th></th>\n      <th>\\t\\t\\t\\t&lt;script language=\"javascript\"&gt;</th>\n    </tr>\n  </thead>\n  <tbody>\n    <tr>\n      <th>\\t\\t\\t\\t\\talert(\"Session expired. You will be redirected to the homepage. Close browser or click 'Logout' if authenticated</th>\n      <td>to completely leave the system.\")</td>\n    </tr>\n    <tr>\n      <th>\\t\\t\\t\\t\\twindow.location = \"/sgspub/\";</th>\n      <td>NaN</td>\n    </tr>\n    <tr>\n      <th>\\t\\t\\t\\t&lt;/script&gt;</th>\n      <td>NaN</td>\n    </tr>\n  </tbody>\n</table>\n</div>"
     },
     "metadata": {},
     "execution_count": 16
    }
   ],
   "source": [
    "pd.read_csv(link)"
   ]
  },
  {
   "cell_type": "code",
   "execution_count": null,
   "metadata": {},
   "outputs": [],
   "source": []
  }
 ]
}